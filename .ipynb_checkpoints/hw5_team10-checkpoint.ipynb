{
 "cells": [
  {
   "cell_type": "markdown",
   "id": "496a50b9",
   "metadata": {},
   "source": [
    "# Team 10 Homework 5\n",
    "\n",
    "## CS02620 Section 1\n",
    "\n",
    "- Leonardo Florero-Flores\n",
    "- Jason Nichols\n",
    "- Fru Nkimberg\n",
    "- Harman Ransi"
   ]
  },
  {
   "cell_type": "markdown",
   "id": "08e9795d",
   "metadata": {},
   "source": [
    "\n",
    "# Deliverable 1: Sales summary table\n",
    "\n",
    "\n",
    "## Combined and Per Store: \n",
    "- Total sales ($)\n",
    "\n",
    "## Per Store\n",
    "- Total sales ($)\n",
    "- Top 25 SKU, Product Name, Number Sold, Rank\n"
   ]
  },
  {
   "cell_type": "code",
   "execution_count": 25,
   "id": "0fcb3104",
   "metadata": {},
   "outputs": [
    {
     "name": "stdout",
     "output_type": "stream",
     "text": [
      "('20230101', '1', '42358001', 2.17)\n",
      "('20230101', '1', '43686001', 2.19)\n",
      "('20230101', '968', '42486001', 1.22)\n"
     ]
    }
   ],
   "source": [
    "#\n",
    "# Let's start by loading up transactions for each store.  We've got different file formats so let's normalize each \n",
    "# into a list of lists: date, customer #, sku, sale price\n",
    "#\n",
    "team_sales = {}\n",
    "\n",
    "#\n",
    "# Team 10\n",
    "#\n",
    "# Team 10 used a sqlite file, one that includes inventory data\n",
    "#\n",
    "import sqlite3\n",
    "key = 'team10'\n",
    "with sqlite3.connect(\"data/team10.db\") as con:\n",
    "    cur = con.execute(\"SELECT Date, CustomerNum, SKU, SalePrice FROM transactions\")\n",
    "    team_sales[key] = [(row[0], str(row[1]), row[2], row[3]) for row in cur.fetchall()]\n",
    "print(team_sales[key][0])\n",
    "    \n",
    "\n",
    "\n",
    "#\n",
    "# Team 12\n",
    "#\n",
    "# Team 12 used a CSV with a header row\n",
    "#\n",
    "import csv\n",
    "key = 'team12'\n",
    "with open('data/team12.csv') as csvfile:\n",
    "    team_sales[key] = [(row[0], row[1], row[2], row[3]) for row in csv.reader(csvfile)]\n",
    "team_sales[key].pop(0) # Remove the header (Python's csv.reader() doesn't seem to offer this feature)\n",
    "team_sales[key] = [(row[0], row[1], row[2], float(row[3])) for row in team_sales[key]]  # Convert the last col to float\n",
    "print(team_sales[key][0])\n",
    "\n",
    "#\n",
    "# Team 11\n",
    "#\n",
    "# Team 11 used a pipe-separated txt file without a header row\n",
    "#\n",
    "key = 'team11'\n",
    "with open('data/team11.txt') as csvfile:\n",
    "    team_sales[key] = [(row[0], row[1], row[2], float(row[3])) for row in csv.reader(csvfile, delimiter='|')]\n",
    "print(team_sales[key][0])\n",
    "\n"
   ]
  }
 ],
 "metadata": {
  "kernelspec": {
   "display_name": "venv",
   "language": "python",
   "name": "venv"
  },
  "language_info": {
   "codemirror_mode": {
    "name": "ipython",
    "version": 3
   },
   "file_extension": ".py",
   "mimetype": "text/x-python",
   "name": "python",
   "nbconvert_exporter": "python",
   "pygments_lexer": "ipython3",
   "version": "3.10.12"
  }
 },
 "nbformat": 4,
 "nbformat_minor": 5
}
